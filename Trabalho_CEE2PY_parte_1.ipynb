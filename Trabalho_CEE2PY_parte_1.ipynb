{
  "nbformat": 4,
  "nbformat_minor": 0,
  "metadata": {
    "colab": {
      "provenance": [],
      "authorship_tag": "ABX9TyMHDgM8sa6CHVgU+JGMIrmB",
      "include_colab_link": true
    },
    "kernelspec": {
      "name": "python3",
      "display_name": "Python 3"
    },
    "language_info": {
      "name": "python"
    }
  },
  "cells": [
    {
      "cell_type": "markdown",
      "metadata": {
        "id": "view-in-github",
        "colab_type": "text"
      },
      "source": [
        "<a href=\"https://colab.research.google.com/github/py242005463/CEE2/blob/main/Trabalho_CEE2PY_parte_1.ipynb\" target=\"_parent\"><img src=\"https://colab.research.google.com/assets/colab-badge.svg\" alt=\"Open In Colab\"/></a>"
      ]
    },
    {
      "cell_type": "markdown",
      "source": [
        "# Trabalho\n"
      ],
      "metadata": {
        "id": "2ryNJo3lqg4-"
      }
    },
    {
      "cell_type": "markdown",
      "source": [
        "# 1. Acessar API do Banco Central."
      ],
      "metadata": {
        "id": "vag2BUB4EIQy"
      }
    },
    {
      "cell_type": "code",
      "source": [
        "import pandas as pd\n",
        "import numpy as np\n",
        "import matplotlib.pyplot as plt\n",
        "from datetime import datetime\n",
        "\n",
        "# Parâmetros fixos\n",
        "investimento_unico = 5000\n",
        "aporte_diario = 100\n",
        "\n",
        "#csv local com dados do selic\n",
        "conteudo_csv = \"\"\"data;valor\n",
        "01/03/2024;0,0115\n",
        "04/03/2024;0,0115\n",
        "05/03/2024;0,0115\n",
        "06/03/2024;0,0115\n",
        "07/03/2024;0,0115\n",
        "08/03/2024;0,0115\n",
        "\"\"\"\n",
        "\n",
        "with open(\"selic_exemplo.csv\", \"w\", encoding=\"utf-8\") as f:\n",
        "    f.write(conteudo_csv)\n",
        "\n",
        "df = pd.read_csv(\"selic_exemplo.csv\", sep=';', encoding='latin1')\n",
        "\n",
        "# Corrigir possível problema de coluna única\n",
        "if df.shape[1] == 1:\n",
        "    df = pd.read_csv(\"selic_exemplo.csv\", sep=';', encoding='latin1', engine='python')\n",
        "    df.columns = df.columns[0].split(';')\n",
        "\n",
        "# Renomear e converter colunas\n",
        "df.rename(columns=lambda x: x.strip().lower(), inplace=True)\n",
        "df.rename(columns={'data': 'Data', 'valor': 'Selic_Diaria'}, inplace=True)\n",
        "df['Data'] = pd.to_datetime(df['Data'], dayfirst=True)\n",
        "df['Selic_Diaria'] = df['Selic_Diaria'].str.replace(',', '.').astype(float)"
      ],
      "metadata": {
        "id": "IEX2FCXCDqem"
      },
      "execution_count": 6,
      "outputs": []
    },
    {
      "cell_type": "markdown",
      "source": [
        "# 2. Converter Taxa Diária."
      ],
      "metadata": {
        "id": "UA5fltj0EX2F"
      }
    },
    {
      "cell_type": "code",
      "source": [
        "#Converter a taxa diária em anual\n",
        "df['Selic_Anual'] = (1 + df['Selic_Diaria'] / 100) ** 252 - 1"
      ],
      "metadata": {
        "id": "Ne2hUovvEi_L"
      },
      "execution_count": 7,
      "outputs": []
    },
    {
      "cell_type": "markdown",
      "source": [
        "# 3. Cálculo da Taxa Selic acumulada."
      ],
      "metadata": {
        "id": "7xzvbTutFMOO"
      }
    },
    {
      "cell_type": "code",
      "source": [
        "#Calcula a Taxa Selic acumulada\n",
        "acumulado = (1 + df['Selic_Diaria'] / 100).cumprod() - 1\n",
        "df['Selic_Acumulada'] = acumulado"
      ],
      "metadata": {
        "id": "AwHcEM2zFa4H"
      },
      "execution_count": 8,
      "outputs": []
    },
    {
      "cell_type": "markdown",
      "source": [
        "#4. Apresenta os resultados em uma planilha."
      ],
      "metadata": {
        "id": "bqhyBjyDFs4v"
      }
    },
    {
      "cell_type": "code",
      "source": [
        "#Faz a planilha dos resultados\n",
        "tabela = df.copy()\n",
        "tabela['Selic_Anual'] *= 100\n",
        "tabela['Selic_Acumulada'] *= 100\n",
        "\n",
        "print(tabela[['Data', 'Selic_Diaria', 'Selic_Anual', 'Selic_Acumulada']])"
      ],
      "metadata": {
        "colab": {
          "base_uri": "https://localhost:8080/"
        },
        "id": "P2EdAJuYF9VB",
        "outputId": "b67c38a6-aae1-46c7-fb23-9f01404ba360"
      },
      "execution_count": 10,
      "outputs": [
        {
          "output_type": "stream",
          "name": "stdout",
          "text": [
            "        Data  Selic_Diaria  Selic_Anual  Selic_Acumulada\n",
            "0 2024-03-01        0.0115     2.940229         0.011500\n",
            "1 2024-03-04        0.0115     2.940229         0.023001\n",
            "2 2024-03-05        0.0115     2.940229         0.034504\n",
            "3 2024-03-06        0.0115     2.940229         0.046008\n",
            "4 2024-03-07        0.0115     2.940229         0.057513\n",
            "5 2024-03-08        0.0115     2.940229         0.069020\n"
          ]
        }
      ]
    },
    {
      "cell_type": "markdown",
      "source": [
        "#5. Apresenta as 3 séries em gráfico."
      ],
      "metadata": {
        "id": "FIa0v0baGbCz"
      }
    },
    {
      "cell_type": "code",
      "source": [
        "#Faz o gráfico das séries\n",
        "plt.figure(figsize=(12, 5))\n",
        "plt.plot(df['Data'], df['Selic_Diaria'], label='SELIC Diária (%)')\n",
        "plt.plot(df['Data'], df['Selic_Anual'] * 100, label='SELIC Anual (%)')\n",
        "plt.plot(df['Data'], df['Selic_Acumulada'] * 100, label='SELIC Acumulada (%)')\n",
        "plt.xlabel('Data')\n",
        "plt.ylabel('Taxa (%)')\n",
        "plt.legend()\n",
        "plt.title('Evolução das Taxas SELIC')\n",
        "plt.grid(True)\n",
        "plt.show()"
      ],
      "metadata": {
        "colab": {
          "base_uri": "https://localhost:8080/",
          "height": 487
        },
        "id": "Kf6uduVLGajf",
        "outputId": "73162d05-7d1f-404b-e2e5-39262c99f50e"
      },
      "execution_count": 11,
      "outputs": [
        {
          "output_type": "display_data",
          "data": {
            "text/plain": [
              "<Figure size 1200x500 with 1 Axes>"
            ],
            "image/png": "[encoded data removed]"
          },
          "metadata": {}
        }
      ]
    },
    {
      "cell_type": "markdown",
      "source": [
        "#6. Apresenta qual foi o período com maior ou menor taxa de juros."
      ],
      "metadata": {
        "id": "D3DUzEskHKqu"
      }
    },
    {
      "cell_type": "code",
      "source": [
        "#Mostra o período de maior e menor taxa de juros\n",
        "maior = df[df['Selic_Anual'] == df['Selic_Anual'].max()]\n",
        "menor = df[df['Selic_Anual'] == df['Selic_Anual'].min()]\n",
        "print(f\"Maior taxa anual: {maior['Selic_Anual'].values[0]*100:.2f}% em {maior['Data'].dt.strftime('%d/%m/%Y').values[0]}\")\n",
        "print(f\"Menor taxa anual: {menor['Selic_Anual'].values[0]*100:.2f}% em {menor['Data'].dt.strftime('%d/%m/%Y').values[0]}\")"
      ],
      "metadata": {
        "colab": {
          "base_uri": "https://localhost:8080/"
        },
        "id": "9gySo1K_HjH4",
        "outputId": "3af827ce-c7d6-4d9e-9915-4005f6d68a4f"
      },
      "execution_count": 12,
      "outputs": [
        {
          "output_type": "stream",
          "name": "stdout",
          "text": [
            "Maior taxa anual: 2.94% em 01/03/2024\n",
            "Menor taxa anual: 2.94% em 01/03/2024\n"
          ]
        }
      ]
    },
    {
      "cell_type": "markdown",
      "source": [
        "#7. Simulação de Investimento único."
      ],
      "metadata": {
        "id": "CVVx2UgOHyxV"
      }
    },
    {
      "cell_type": "code",
      "source": [
        "#Simulação de investimento único\n",
        "valores = [investimento_unico]\n",
        "for taxa in df['Selic_Diaria'][1:]:\n",
        "    novo_valor = valores[-1] * (1 + taxa / 100)\n",
        "    valores.append(novo_valor)\n",
        "df['Valor_Investido_Unico'] = valores\n",
        "\n",
        "print(\"\\nSimulação - Investimento Único:\")\n",
        "print(df[['Data', 'Selic_Diaria', 'Valor_Investido_Unico']])"
      ],
      "metadata": {
        "colab": {
          "base_uri": "https://localhost:8080/"
        },
        "id": "ay0wOQ3CH7EN",
        "outputId": "ce8e9f9f-4a19-4a65-f102-905764798139"
      },
      "execution_count": 14,
      "outputs": [
        {
          "output_type": "stream",
          "name": "stdout",
          "text": [
            "\n",
            "Simulação - Investimento Único:\n",
            "        Data  Selic_Diaria  Valor_Investido_Unico\n",
            "0 2024-03-01        0.0115            5000.000000\n",
            "1 2024-03-04        0.0115            5000.575000\n",
            "2 2024-03-05        0.0115            5001.150066\n",
            "3 2024-03-06        0.0115            5001.725198\n",
            "4 2024-03-07        0.0115            5002.300397\n",
            "5 2024-03-08        0.0115            5002.875661\n"
          ]
        }
      ]
    },
    {
      "cell_type": "markdown",
      "source": [
        "#8. Investimento recorrente."
      ],
      "metadata": {
        "id": "t37DGIo0Iono"
      }
    },
    {
      "cell_type": "code",
      "source": [
        "#Simulação de investimento recorrente\n",
        "valores_recorrente = []\n",
        "saldo = 0\n",
        "for taxa in df['Selic_Diaria']:\n",
        "    saldo = (saldo + aporte_diario) * (1 + taxa / 100)\n",
        "    valores_recorrente.append(saldo)\n",
        "df['Valor_Investido_Recorrente'] = valores_recorrente\n",
        "\n",
        "print(\"\\nSimulação - Investimento recorrente:\")\n",
        "print(df[['Data', 'Selic_Diaria', 'Valor_Investido_Recorrente']])"
      ],
      "metadata": {
        "colab": {
          "base_uri": "https://localhost:8080/"
        },
        "id": "ZcF4ADEYItsT",
        "outputId": "d64c6aa1-2466-4b28-c5b2-23dee5fe1db9"
      },
      "execution_count": 16,
      "outputs": [
        {
          "output_type": "stream",
          "name": "stdout",
          "text": [
            "\n",
            "Simulação - Investimento recorrente:\n",
            "        Data  Selic_Diaria  Valor_Investido_Recorrente\n",
            "0 2024-03-01        0.0115                  100.011500\n",
            "1 2024-03-04        0.0115                  200.034501\n",
            "2 2024-03-05        0.0115                  300.069005\n",
            "3 2024-03-06        0.0115                  400.115013\n",
            "4 2024-03-07        0.0115                  500.172526\n",
            "5 2024-03-08        0.0115                  600.241546\n"
          ]
        }
      ]
    }
  ]
}